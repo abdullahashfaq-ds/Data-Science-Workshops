{
 "cells": [
  {
   "cell_type": "markdown",
   "id": "4b59028f-f9e8-4e43-81df-e39963d79076",
   "metadata": {},
   "source": [
    "<h1 style=\"text-align: center;\">NumPy Fundamentals</h1>"
   ]
  },
  {
   "cell_type": "markdown",
   "id": "f7cc6ff1-130f-4970-9c4b-8fa5a1505875",
   "metadata": {},
   "source": [
    "### Install NumPy"
   ]
  },
  {
   "cell_type": "code",
   "execution_count": 1,
   "id": "0561b434-2b8e-463e-ad1f-6f5a1e68dd48",
   "metadata": {},
   "outputs": [
    {
     "name": "stdout",
     "output_type": "stream",
     "text": [
      "Requirement already satisfied: numpy in c:\\users\\track computers\\envs\\data-science\\lib\\site-packages (1.24.3)\n"
     ]
    }
   ],
   "source": [
    "!pip install numpy"
   ]
  },
  {
   "cell_type": "markdown",
   "id": "28cfa6cd-1d20-4f9c-b405-7c1171a8f18d",
   "metadata": {},
   "source": [
    "### Import NumPy"
   ]
  },
  {
   "cell_type": "code",
   "execution_count": 2,
   "id": "29910d12-4007-4bb5-ba87-2aeecb97293d",
   "metadata": {},
   "outputs": [],
   "source": [
    "import numpy as np"
   ]
  },
  {
   "cell_type": "markdown",
   "id": "50c5a02b-389d-4d36-90e7-5fa357632ea0",
   "metadata": {},
   "source": [
    "### Creating NumPy Arrays"
   ]
  },
  {
   "cell_type": "code",
   "execution_count": 3,
   "id": "2764465f-5ca1-4213-acc7-99615fb97108",
   "metadata": {},
   "outputs": [
    {
     "name": "stdout",
     "output_type": "stream",
     "text": [
      "Type: <class 'numpy.ndarray'>\n",
      "Array: [1 2 3]\n"
     ]
    }
   ],
   "source": [
    "# 1 Dimensional or Vector\n",
    "arr = np.array([1, 2, 3])\n",
    "\n",
    "print(f\"Type: {type(arr)}\\nArray: {arr}\")"
   ]
  },
  {
   "cell_type": "code",
   "execution_count": 4,
   "id": "fe11cc4e-6ad7-4a5b-9dfd-9f5dfd9ad451",
   "metadata": {},
   "outputs": [
    {
     "name": "stdout",
     "output_type": "stream",
     "text": [
      "[[1 2 3]\n",
      " [4 5 6]]\n"
     ]
    }
   ],
   "source": [
    "# 2 Dimensional or Matrix\n",
    "arr = np.array(\n",
    "    [\n",
    "        [1, 2, 3],\n",
    "        [4, 5, 6],\n",
    "    ]\n",
    ")\n",
    "\n",
    "print(arr)"
   ]
  },
  {
   "cell_type": "code",
   "execution_count": 5,
   "id": "85621311-065d-4b70-95d2-b0bf12391c82",
   "metadata": {},
   "outputs": [
    {
     "name": "stdout",
     "output_type": "stream",
     "text": [
      "[[[1 2]\n",
      "  [3 4]]\n",
      "\n",
      " [[5 6]\n",
      "  [7 8]]]\n"
     ]
    }
   ],
   "source": [
    "# 3 Dimensional or Tensor\n",
    "arr = np.array(\n",
    "    [\n",
    "        [[1, 2], [3, 4]],\n",
    "        [[5, 6], [7, 8]],\n",
    "    ]\n",
    ")\n",
    "\n",
    "print(arr)"
   ]
  },
  {
   "cell_type": "code",
   "execution_count": 6,
   "id": "d5abeef0-3960-4e02-9104-203c6a2073b1",
   "metadata": {},
   "outputs": [
    {
     "name": "stdout",
     "output_type": "stream",
     "text": [
      "\n",
      "    Array 01 Data Type: int32,\n",
      "    Array 02 Data Type: float64,\n",
      "    Array 03 Data Type: <U1,\n",
      "    Array 04 Data Type: bool,\n",
      "    Array 05 Data Type: complex128,\n",
      "\n"
     ]
    }
   ],
   "source": [
    "# checking the data types of various NumPy arrays\n",
    "arr1 = np.array([1, 2, 3])\n",
    "arr2 = np.array([1., 2., 3.])\n",
    "arr3 = np.array(['a', 'b', 'c'])\n",
    "arr4 = np.array([True, False, True])\n",
    "arr5 = np.array([1.0 + 2.0j, 2.5 + 3.5j])\n",
    "\n",
    "print(f\"\"\"\n",
    "    Array 01 Data Type: {arr1.dtype},\n",
    "    Array 02 Data Type: {arr2.dtype},\n",
    "    Array 03 Data Type: {arr3.dtype},\n",
    "    Array 04 Data Type: {arr4.dtype},\n",
    "    Array 05 Data Type: {arr5.dtype},\n",
    "\"\"\")"
   ]
  },
  {
   "cell_type": "code",
   "execution_count": 7,
   "id": "26af4b5e-b8eb-41c3-9242-487a7a34cfae",
   "metadata": {},
   "outputs": [
    {
     "data": {
      "text/plain": [
       "array([1., 2., 3.])"
      ]
     },
     "execution_count": 7,
     "metadata": {},
     "output_type": "execute_result"
    }
   ],
   "source": [
    "# converting int to float\n",
    "np.array([1, 2, 3], dtype=float)"
   ]
  },
  {
   "cell_type": "code",
   "execution_count": 8,
   "id": "f8cc6ce5-8b5d-4599-b502-4612e60d912d",
   "metadata": {},
   "outputs": [
    {
     "data": {
      "text/plain": [
       "array([False,  True,  True])"
      ]
     },
     "execution_count": 8,
     "metadata": {},
     "output_type": "execute_result"
    }
   ],
   "source": [
    "# converting int to bool\n",
    "np.array([0, 2, 3], dtype=bool)"
   ]
  },
  {
   "cell_type": "code",
   "execution_count": 9,
   "id": "cc79450b-c627-4b13-8b33-25240081fbb8",
   "metadata": {},
   "outputs": [
    {
     "data": {
      "text/plain": [
       "array([1.+0.j, 2.+0.j, 3.+0.j])"
      ]
     },
     "execution_count": 9,
     "metadata": {},
     "output_type": "execute_result"
    }
   ],
   "source": [
    "# converting int to complex\n",
    "np.array([1, 2, 3], dtype=complex)"
   ]
  },
  {
   "cell_type": "code",
   "execution_count": 10,
   "id": "28555b77-658c-4e39-8dcf-c390632542c2",
   "metadata": {},
   "outputs": [
    {
     "data": {
      "text/plain": [
       "dtype('int64')"
      ]
     },
     "execution_count": 10,
     "metadata": {},
     "output_type": "execute_result"
    }
   ],
   "source": [
    "# converting int32 to int64\n",
    "arr = np.array([1, 2, 3], dtype=np.int32)\n",
    "arr = arr.astype(np.int64)\n",
    "\n",
    "arr.dtype"
   ]
  },
  {
   "cell_type": "code",
   "execution_count": 11,
   "id": "e65272ed-9903-432a-8f2e-974c178b7f9e",
   "metadata": {},
   "outputs": [
    {
     "name": "stdout",
     "output_type": "stream",
     "text": [
      "Arange Array 01: [ 1  2  3  4  5  6  7  8  9 10]\n",
      "Arange Array 02: [1 3 5 7 9]\n"
     ]
    }
   ],
   "source": [
    "# arange is similar to the range function in python\n",
    "arr1 = np.arange(1, 11)\n",
    "arr2 = np.arange(1, 11, 2)\n",
    "\n",
    "print(f\"Arange Array 01: {arr1}\")\n",
    "print(f\"Arange Array 02: {arr2}\")"
   ]
  },
  {
   "cell_type": "code",
   "execution_count": 12,
   "id": "68eb3881-aff8-4dee-a738-1a60af66924f",
   "metadata": {},
   "outputs": [
    {
     "data": {
      "text/plain": [
       "array([[ 1,  2,  3,  4,  5],\n",
       "       [ 6,  7,  8,  9, 10]])"
      ]
     },
     "execution_count": 12,
     "metadata": {},
     "output_type": "execute_result"
    }
   ],
   "source": [
    "# reshape changes the dimensions of a array\n",
    "arr = np.arange(1, 11)\n",
    "\n",
    "arr.reshape(2, 5)"
   ]
  },
  {
   "cell_type": "code",
   "execution_count": 13,
   "id": "4c098ee0-b851-4269-a7b4-5b38b1823fc4",
   "metadata": {},
   "outputs": [
    {
     "name": "stdout",
     "output_type": "stream",
     "text": [
      "Array 01: [1.]\n",
      "Array 02: \n",
      "[[1. 1.]\n",
      " [1. 1.]\n",
      " [1. 1.]]\n"
     ]
    }
   ],
   "source": [
    "# generating NumPy arrays filled with ones\n",
    "arr1 = np.ones((1, ))\n",
    "arr2 = np.ones((3, 2))\n",
    "\n",
    "print(f\"Array 01: {arr1}\")\n",
    "print(f\"Array 02: \\n{arr2}\")"
   ]
  },
  {
   "cell_type": "code",
   "execution_count": 14,
   "id": "6c748cb2-b392-42d1-9675-e0061bc2912d",
   "metadata": {},
   "outputs": [
    {
     "name": "stdout",
     "output_type": "stream",
     "text": [
      "Array 01: [0.]\n",
      "Array 02: \n",
      "[[0. 0.]\n",
      " [0. 0.]\n",
      " [0. 0.]]\n"
     ]
    }
   ],
   "source": [
    "# generating NumPy arrays filled with zeros\n",
    "arr1 = np.zeros((1, ))\n",
    "arr2 = np.zeros((3, 2))\n",
    "\n",
    "print(f\"Array 01: {arr1}\")\n",
    "print(f\"Array 02: \\n{arr2}\")"
   ]
  },
  {
   "cell_type": "code",
   "execution_count": 15,
   "id": "f0ad8471-dc29-4b3e-ab36-9ccb9ab2e2bc",
   "metadata": {},
   "outputs": [
    {
     "name": "stdout",
     "output_type": "stream",
     "text": [
      "Random Array 01: [0.76256092]\n",
      "Random Array 02: \n",
      "[[0.92591983 0.26965188]\n",
      " [0.71694234 0.36623858]\n",
      " [0.13318047 0.40534737]]\n"
     ]
    }
   ],
   "source": [
    "# generating NumPy arrays filled with random values\n",
    "arr1 = np.random.random((1, ))\n",
    "arr2 = np.random.random((3, 2))\n",
    "\n",
    "print(f\"Random Array 01: {arr1}\")\n",
    "print(f\"Random Array 02: \\n{arr2}\")"
   ]
  },
  {
   "cell_type": "code",
   "execution_count": 16,
   "id": "753e5866-4e36-4c62-9e60-de74ba834899",
   "metadata": {},
   "outputs": [
    {
     "data": {
      "text/plain": [
       "array([-10.,  -5.,   0.,   5.,  10.])"
      ]
     },
     "execution_count": 16,
     "metadata": {},
     "output_type": "execute_result"
    }
   ],
   "source": [
    "# linear space\n",
    "# np.linspace(lower_range, upper_range, size)\n",
    "np.linspace(-10, 10, 5)"
   ]
  },
  {
   "cell_type": "code",
   "execution_count": 17,
   "id": "89182d56-00b5-4fab-a27d-6a466661c809",
   "metadata": {},
   "outputs": [
    {
     "data": {
      "text/plain": [
       "array([[1., 0., 0.],\n",
       "       [0., 1., 0.],\n",
       "       [0., 0., 1.]])"
      ]
     },
     "execution_count": 17,
     "metadata": {},
     "output_type": "execute_result"
    }
   ],
   "source": [
    "# generating the identity matrix\n",
    "np.identity(3)"
   ]
  },
  {
   "cell_type": "code",
   "execution_count": null,
   "id": "77bc288c-7ecb-497e-99e0-c288f05d00cb",
   "metadata": {},
   "outputs": [],
   "source": []
  }
 ],
 "metadata": {
  "kernelspec": {
   "display_name": "Python 3 (ipykernel)",
   "language": "python",
   "name": "python3"
  },
  "language_info": {
   "codemirror_mode": {
    "name": "ipython",
    "version": 3
   },
   "file_extension": ".py",
   "mimetype": "text/x-python",
   "name": "python",
   "nbconvert_exporter": "python",
   "pygments_lexer": "ipython3",
   "version": "3.11.1"
  }
 },
 "nbformat": 4,
 "nbformat_minor": 5
}
